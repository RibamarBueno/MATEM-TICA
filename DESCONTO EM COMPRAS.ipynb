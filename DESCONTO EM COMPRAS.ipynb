{
  "nbformat": 4,
  "nbformat_minor": 0,
  "metadata": {
    "colab": {
      "provenance": [],
      "authorship_tag": "ABX9TyP8cDmMSX18B+YayJjO5g5S",
      "include_colab_link": true
    },
    "kernelspec": {
      "name": "python3",
      "display_name": "Python 3"
    },
    "language_info": {
      "name": "python"
    }
  },
  "cells": [
    {
      "cell_type": "markdown",
      "metadata": {
        "id": "view-in-github",
        "colab_type": "text"
      },
      "source": [
        "<a href=\"https://colab.research.google.com/github/RibamarBueno/MATEM-TICA/blob/main/DESCONTO%20EM%20COMPRAS.ipynb\" target=\"_parent\"><img src=\"https://colab.research.google.com/assets/colab-badge.svg\" alt=\"Open In Colab\"/></a>"
      ]
    },
    {
      "cell_type": "markdown",
      "source": [
        "Enunciado: Imagina-se que você é um dos programadores responsáveis pela construção de app de vendas para uma determinada empresa X que vende em atacado. Uma das estratégias de vendas dessa empresa X é dar desconto maiores conforme o valorda compra conforme a listagem abaixo:\n",
        "\n",
        "•\tSe valor for menorque1000o desconto será de 0%;\n",
        "\n",
        "•\tSe valor for igual ou maiorque 1000 e menor que3000o desconto será de 3%;\n",
        "\n",
        "•\tSe valorfor igual ou maior que3000e menor que5000o desconto será de 5%;\n",
        "\n",
        "•\tSe valor for igual ou maiorque 5000o desconto será de 8%;\n",
        "\n",
        "Elabore um programa em Python que:\n",
        "\n",
        "A.\tDeve-se implementar o print com uma mensagem de boas-vindas que apareça o seu nome[EXIGÊNCIA DE CÓDIGO 1 de 6];\n",
        "\n",
        "B.\tDeve-se implementar o inputdo valor unitário e da quantidade do produto [EXIGÊNCIA DE CÓDIGO 2 de 6];\n",
        "\n",
        "C.\tDeve-se implementar o desconto conformea enunciado acima (obs.: atente-se as condições de menor, igual e maior)[EXIGÊNCIA DE CÓDIGO 3 de 6];\n",
        "\n",
        "D.\tDeve-se implementar o valor total sem desconto e o valor total com desconto[EXIGÊNCIA DE CÓDIGO 4 de 6];\n",
        "\n",
        "E.\tDeve-se implementar as estruturas if, elif e else (todas elas)[EXIGÊNCIA DE CÓDIGO 5 de 6];\n",
        "\n",
        "F.\tDeve-se inserir comentários relevantesno código [EXIGÊNCIA DE CÓDIGO 6 de 6];\n",
        "\n",
        "G.\tDeve-se apresentarna saída de console uma mensagem de boas-vindas com seu nome[EXIGÊNCIA DE SAÍDA DE CONSOLE 1 de 2];\n",
        "\n",
        "H.\tDeve-se apresentarnasaída de consoleum pedido recebendo desconto (valor total sem descontoacima de 1000 )[EXIGÊNCIA DE SAÍDA DE CONSOLE 2 de 2];  \n"
      ],
      "metadata": {
        "id": "gn-EuBhEgtY3"
      }
    },
    {
      "cell_type": "code",
      "execution_count": null,
      "metadata": {
        "id": "pd5QAXrlYHTP",
        "colab": {
          "base_uri": "https://localhost:8080/"
        },
        "outputId": "599dceab-f100-4105-bd8e-127a36cb4429"
      },
      "outputs": [
        {
          "output_type": "stream",
          "name": "stdout",
          "text": [
            "Bem vindo, a Loja Ribamar Bueno Atacado.\n"
          ]
        }
      ],
      "source": [
        "print ('Bem vindo, a Loja Ribamar Bueno Atacado.')\n",
        "vp= float(input(\"Qual o valor do produto?\\n\")) # vp = valor produto\n",
        "qp= float(input('Qual a quantidade do produto?\\n')) # qp = quantidade do produto\n",
        "ct=vp*qp # ct= compra total (valor do produto X quantidade do produto)\n",
        "desc = 0\n",
        "if ct < 1000:\n",
        "  desc=0.00 # desc =  \"valor do desconto\"\n",
        "  sd=ct-1000\n",
        "  print(\"Compras abaixo de R$:1.000,00, não geram desconto, mas falta apenas R$:{:.2f}, para ter direito ao desconto, aproveite.\".format(-sd))\n",
        "#elif qp >=5 and qp<+19:\n",
        "elif  1000 <= ct < 3000:\n",
        "  desc = 0.03 # eu poderia colocar desc=0.03*100, mas preferi colocar no format, assim faço isso apenas uma vez.\n",
        "elif  3000 <= ct < 5000:\n",
        "  desc = 0.06\n",
        "else:\n",
        "  desc = 0.08\n",
        "\n",
        "desconto = ct*desc # desconto = seria o valor do desconto em si.\n",
        "vd=-(desconto-ct) # vd = valor do desconto, que seria o desconto - o valor total da compra.\n",
        "\n",
        "print(\"O valor da sua compra SEM desconto foi de R$:{:.2f} isso te da um desconto de {}%.\\nO valor de sua compra COM o desconto fica R$:{:.2f}\".format(ct,desc*100,vd))"
      ]
    }
  ]
}